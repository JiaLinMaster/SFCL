{
 "cells": [
  {
   "cell_type": "code",
   "execution_count": 2,
   "metadata": {},
   "outputs": [],
   "source": [
    "import numpy as np\n",
    "import pandas as pd\n",
    "import matplotlib.pyplot as plt\n",
    "import tensorflow as tf\n",
    "import datetime\n",
    "from sklearn.preprocessing import MinMaxScaler"
   ]
  },
  {
   "cell_type": "code",
   "execution_count": 3,
   "metadata": {},
   "outputs": [],
   "source": [
    "def mape_func(data, target_date):\n",
    "    group_data = data.groupby(by='Date')\n",
    "    target_date = data.loc[target_date].index[1]                 #用于mape的时间\n",
    "    x_pred = data.loc[target_date, 'D'].values.flatten()\n",
    "    def mapes(x_true,x_pred =x_pred):\n",
    "        y = x_true['D'].values.flatten()\n",
    "        x = x_pred\n",
    "        mape = np.mean(np.abs(x - y)/x)*100\n",
    "        return mape\n",
    "       \n",
    "    mape_data = group_data.apply(mapes)\n",
    "    vaild_index = np.array([])\n",
    "    train_index = np.array([])\n",
    "    for i in mape_data.sort_values()[1:81].index.sort_values():\n",
    "        a = i + datetime.timedelta(days=1)\n",
    "        if a in data_index:\n",
    "            train_index = np.append(train_index, i)\n",
    "            vaild_index = np.append(vaild_index, a)\n",
    "        else:\n",
    "            continue\n",
    "    return train_index,vaild_index\n"
   ]
  },
  {
   "cell_type": "code",
   "execution_count": 4,
   "metadata": {},
   "outputs": [],
   "source": [
    "def reshape_data(index_T, index_V, data):\n",
    "    sc_temp = MinMaxScaler()\n",
    "    data['CT'] = sc_temp.fit_transform(data['CT'].values.reshape(-1,1))\n",
    "    data['IT'] = sc_temp.transform(data['IT'].values.reshape(-1,1))\n",
    "    data['FT'] = sc_temp.transform(data['FT'].values.reshape(-1,1))\n",
    "    sc_load = MinMaxScaler()\n",
    "    data['D'] = sc_load.fit_transform(data['D'].values.reshape(-1,1))\n",
    "    length = int(np.floor(index_T.shape[0]*0.7))\n",
    "    print(length,'-------------------------------')\n",
    "    X_train = data.loc[index_T].iloc[:length*24].values.reshape(-1,24,4)      \n",
    "    y_train = data.loc[index_V].iloc[:length*24, 0].values.reshape(-1,24)    \n",
    "    X_test = data.loc[index_T].iloc[length*24:].values.reshape(-1,24,4)\n",
    "    y_test = data.loc[index_V].iloc[length*24:, 0].values.reshape(-1,24)\n",
    "    \n",
    "    #X_train, X_test, y_train, y_test = train_test_split(data.loc[index_T], data.loc[index_V, 'load'], test_size=0.3)\n",
    "    return [X_train, X_test, y_train, y_test, sc_temp, sc_load]\n"
   ]
  },
  {
   "cell_type": "code",
   "execution_count": 5,
   "metadata": {},
   "outputs": [],
   "source": [
    "def modle_set():\n",
    "    #建立LSTM模型 训练\n",
    "    inputs=tf.keras.layers.Input(shape=(24, 4))\n",
    "    model=tf.keras.layers.Conv1D(filters = 24, kernel_size = 1, activation = 'sigmoid')(inputs)#卷积层\n",
    "    model=tf.keras.layers.Conv1D(filters = 24, kernel_size = 1, activation = 'sigmoid')(model)#卷积层\n",
    "    #model=tf.keras.layers.Conv1D(filters = 48, kernel_size = 1, activation = 'sigmoid')(model)\n",
    "    #model=tf.keras.layers.MaxPooling1D(pool_size = 48)(model)#池化层\n",
    "    #model=tf.keras.layers.Dropout(0.03)(model)#droupout层\n",
    "    #model=tf.keras.layers.GRU(48, activation='tanh', return_sequences=True)(model)\n",
    "    #model=tf.keras.layers.Dropout(0.03)(model)\n",
    "    model=tf.keras.layers.LSTM(24, activation='tanh', return_sequences=True)(model)\n",
    "    #model=tf.keras.layers.LSTM(48, activation='tanh', return_sequences=True)(model)\n",
    "    #model=tf.keras.layers.Dropout(0.03)(model)\n",
    "    model=tf.keras.layers.LSTM(24, activation='tanh')(model)\n",
    "    #model=tf.keras.layers.LSTM(48, activation='tanh')(model)\n",
    "    outputs = tf.keras.layers.Dense(24)(model)\n",
    "    model = tf.keras.models.Model(inputs=inputs, outputs=outputs)\n",
    "    model.compile(loss='mse',optimizer='adam',metrics=['accuracy'])\n",
    "    model.summary()#展示模型结构\n",
    "    return model"
   ]
  },
  {
   "cell_type": "code",
   "execution_count": 15,
   "metadata": {},
   "outputs": [],
   "source": [
    "def mainSet(data, target_date, aim_data):   \n",
    "    data_real = data.copy()                                                                           #未归一化的datarale\n",
    "    \n",
    "    \n",
    "    train_index,vaild_index = mape_func(data, target_date)\n",
    "    a = reshape_data(train_index, vaild_index, data)                                                  #会将data     normolization\n",
    "    \n",
    "    model = modle_set()\n",
    "    model.fit(a[0], a[2], epochs = 30, batch_size = 5,shuffle=True,validation_data=(a[1], a[3]))   #训练模型--专属\n",
    "\n",
    "    for_pred = data.loc[target_date].values.reshape(1,24,4)                                            #用前一天\n",
    "\n",
    "    pred_data = model.predict(for_pred)                                                                #预测后一天\n",
    "    pred_data_true = a[-1].inverse_transform(pred_data.reshape(-1,1)).flatten()\n",
    "    true_value = data_real.loc[aim_data,'D'].values.flatten()                                       #后一天的真实值 \n",
    "    \n",
    "    #print(target_date, 'to predict', aim_data)\n",
    "    \n",
    "    plt.plot(pred_data_true, 'b')\n",
    "    plt.plot(true_value,'r')\n",
    "    plt.show()\n",
    "    \n",
    "    #print('pred')\n",
    "    #print(pred_data_true)\n",
    "    #print('true')\n",
    "    #print(true_value)\n",
    "    mapes = np.mean(np.abs(true_value - pred_data_true)/true_value)*100\n",
    "    #print('mape:', mapes)\n",
    "    return pred_data_true, true_value, mapes"
   ]
  },
  {
   "cell_type": "code",
   "execution_count": 31,
   "metadata": {},
   "outputs": [
    {
     "name": "stdout",
     "output_type": "stream",
     "text": [
      "55 -------------------------------\n",
      "Model: \"model_12\"\n",
      "_________________________________________________________________\n",
      "Layer (type)                 Output Shape              Param #   \n",
      "=================================================================\n",
      "input_13 (InputLayer)        [(None, 24, 4)]           0         \n",
      "_________________________________________________________________\n",
      "conv1d_24 (Conv1D)           (None, 24, 24)            120       \n",
      "_________________________________________________________________\n",
      "conv1d_25 (Conv1D)           (None, 24, 24)            600       \n",
      "_________________________________________________________________\n",
      "lstm_24 (LSTM)               (None, 24, 24)            4704      \n",
      "_________________________________________________________________\n",
      "lstm_25 (LSTM)               (None, 24)                4704      \n",
      "_________________________________________________________________\n",
      "dense_12 (Dense)             (None, 24)                600       \n",
      "=================================================================\n",
      "Total params: 10,728\n",
      "Trainable params: 10,728\n",
      "Non-trainable params: 0\n",
      "_________________________________________________________________\n",
      "Train on 55 samples, validate on 24 samples\n",
      "Epoch 1/30\n",
      "55/55 [==============================] - 2s 35ms/sample - loss: 0.0454 - accuracy: 0.1091 - val_loss: 0.0296 - val_accuracy: 0.4167\n",
      "Epoch 2/30\n",
      "55/55 [==============================] - 0s 2ms/sample - loss: 0.0180 - accuracy: 0.0364 - val_loss: 0.0150 - val_accuracy: 0.0000e+00\n",
      "Epoch 3/30\n",
      "55/55 [==============================] - 0s 2ms/sample - loss: 0.0086 - accuracy: 0.0182 - val_loss: 0.0079 - val_accuracy: 0.0000e+00\n",
      "Epoch 4/30\n",
      "55/55 [==============================] - 0s 2ms/sample - loss: 0.0038 - accuracy: 0.0545 - val_loss: 0.0039 - val_accuracy: 0.0000e+00\n",
      "Epoch 5/30\n",
      "55/55 [==============================] - 0s 2ms/sample - loss: 0.0020 - accuracy: 0.0727 - val_loss: 0.0031 - val_accuracy: 0.2917\n",
      "Epoch 6/30\n",
      "55/55 [==============================] - 0s 2ms/sample - loss: 0.0016 - accuracy: 0.2364 - val_loss: 0.0030 - val_accuracy: 0.2083\n",
      "Epoch 7/30\n",
      "55/55 [==============================] - 0s 2ms/sample - loss: 0.0017 - accuracy: 0.2182 - val_loss: 0.0032 - val_accuracy: 0.2083\n",
      "Epoch 8/30\n",
      "55/55 [==============================] - 0s 2ms/sample - loss: 0.0017 - accuracy: 0.2727 - val_loss: 0.0031 - val_accuracy: 0.2083\n",
      "Epoch 9/30\n",
      "55/55 [==============================] - 0s 2ms/sample - loss: 0.0016 - accuracy: 0.3455 - val_loss: 0.0031 - val_accuracy: 0.2083\n",
      "Epoch 10/30\n",
      "55/55 [==============================] - 0s 2ms/sample - loss: 0.0016 - accuracy: 0.2182 - val_loss: 0.0030 - val_accuracy: 0.2083\n",
      "Epoch 11/30\n",
      "55/55 [==============================] - 0s 2ms/sample - loss: 0.0016 - accuracy: 0.3455 - val_loss: 0.0033 - val_accuracy: 0.2917\n",
      "Epoch 12/30\n",
      "55/55 [==============================] - 0s 2ms/sample - loss: 0.0016 - accuracy: 0.3091 - val_loss: 0.0029 - val_accuracy: 0.2083\n",
      "Epoch 13/30\n",
      "55/55 [==============================] - 0s 2ms/sample - loss: 0.0016 - accuracy: 0.2545 - val_loss: 0.0033 - val_accuracy: 0.2083\n",
      "Epoch 14/30\n",
      "55/55 [==============================] - 0s 2ms/sample - loss: 0.0016 - accuracy: 0.2545 - val_loss: 0.0030 - val_accuracy: 0.2083\n",
      "Epoch 15/30\n",
      "55/55 [==============================] - 0s 2ms/sample - loss: 0.0016 - accuracy: 0.2364 - val_loss: 0.0030 - val_accuracy: 0.2917\n",
      "Epoch 16/30\n",
      "55/55 [==============================] - 0s 2ms/sample - loss: 0.0017 - accuracy: 0.2909 - val_loss: 0.0032 - val_accuracy: 0.2083\n",
      "Epoch 17/30\n",
      "55/55 [==============================] - 0s 2ms/sample - loss: 0.0016 - accuracy: 0.2545 - val_loss: 0.0030 - val_accuracy: 0.2083\n",
      "Epoch 18/30\n",
      "55/55 [==============================] - 0s 2ms/sample - loss: 0.0016 - accuracy: 0.3455 - val_loss: 0.0030 - val_accuracy: 0.2083\n",
      "Epoch 19/30\n",
      "55/55 [==============================] - 0s 2ms/sample - loss: 0.0016 - accuracy: 0.4545 - val_loss: 0.0030 - val_accuracy: 0.2917\n",
      "Epoch 20/30\n",
      "55/55 [==============================] - 0s 2ms/sample - loss: 0.0016 - accuracy: 0.3273 - val_loss: 0.0031 - val_accuracy: 0.2917\n",
      "Epoch 21/30\n",
      "55/55 [==============================] - 0s 2ms/sample - loss: 0.0016 - accuracy: 0.2000 - val_loss: 0.0030 - val_accuracy: 0.2083\n",
      "Epoch 22/30\n",
      "55/55 [==============================] - 0s 2ms/sample - loss: 0.0016 - accuracy: 0.3455 - val_loss: 0.0030 - val_accuracy: 0.2083\n",
      "Epoch 23/30\n",
      "55/55 [==============================] - 0s 2ms/sample - loss: 0.0016 - accuracy: 0.3455 - val_loss: 0.0030 - val_accuracy: 0.2083\n",
      "Epoch 24/30\n",
      "55/55 [==============================] - 0s 2ms/sample - loss: 0.0016 - accuracy: 0.3455 - val_loss: 0.0031 - val_accuracy: 0.2083\n",
      "Epoch 25/30\n",
      "55/55 [==============================] - 0s 2ms/sample - loss: 0.0016 - accuracy: 0.2909 - val_loss: 0.0030 - val_accuracy: 0.2083\n",
      "Epoch 26/30\n",
      "55/55 [==============================] - 0s 2ms/sample - loss: 0.0016 - accuracy: 0.3091 - val_loss: 0.0031 - val_accuracy: 0.2083\n",
      "Epoch 27/30\n",
      "55/55 [==============================] - 0s 2ms/sample - loss: 0.0016 - accuracy: 0.3091 - val_loss: 0.0030 - val_accuracy: 0.2083\n",
      "Epoch 28/30\n",
      "55/55 [==============================] - 0s 2ms/sample - loss: 0.0016 - accuracy: 0.2545 - val_loss: 0.0029 - val_accuracy: 0.2917\n",
      "Epoch 29/30\n",
      "55/55 [==============================] - 0s 2ms/sample - loss: 0.0016 - accuracy: 0.3091 - val_loss: 0.0028 - val_accuracy: 0.2500\n",
      "Epoch 30/30\n",
      "55/55 [==============================] - 0s 2ms/sample - loss: 0.0016 - accuracy: 0.3273 - val_loss: 0.0031 - val_accuracy: 0.2917\n"
     ]
    },
    {
     "data": {
      "image/png": "[encoded data removed]",
      "text/plain": [
       "<Figure size 432x288 with 1 Axes>"
      ]
     },
     "metadata": {
      "needs_background": "light"
     },
     "output_type": "display_data"
    },
    {
     "data": {
      "text/plain": [
       "6.7753386662702715"
      ]
     },
     "execution_count": 31,
     "metadata": {},
     "output_type": "execute_result"
    }
   ],
   "source": [
    "data = pd.read_csv('weekend.csv', index_col=['Date'], parse_dates=['Date'])\n",
    "data_index = data.index.unique()\n",
    "pred_data, true_data, mapes = mainSet(data, '2021-05-28', '2021-05-29')\n",
    "mapes"
   ]
  },
  {
   "cell_type": "code",
   "execution_count": 11,
   "metadata": {},
   "outputs": [
    {
     "data": {
      "text/plain": [
       "array([61894.598, 59662.645, 58520.3  , 57413.24 , 56489.008, 56764.83 ,\n",
       "       57126.055, 57747.94 , 59718.477, 62562.754, 64653.793, 65934.51 ,\n",
       "       67041.74 , 66988.62 , 68123.27 , 67900.56 , 68687.65 , 69272.6  ,\n",
       "       70517.12 , 71031.48 , 70964.71 , 71696.   , 69120.5  , 65486.48 ],\n",
       "      dtype=float32)"
      ]
     },
     "execution_count": 11,
     "metadata": {},
     "output_type": "execute_result"
    }
   ],
   "source": [
    "pred_data #2  2.3609"
   ]
  },
  {
   "cell_type": "code",
   "execution_count": 18,
   "metadata": {},
   "outputs": [
    {
     "data": {
      "text/plain": [
       "array([64029.65 , 62609.688, 60259.484, 59977.07 , 60265.625, 60601.164,\n",
       "       61702.3  , 63401.777, 64994.168, 67511.805, 68570.83 , 68814.15 ,\n",
       "       68935.23 , 69431.88 , 69053.76 , 69878.33 , 70734.57 , 70712.64 ,\n",
       "       72124.49 , 73230.48 , 73919.27 , 73253.7  , 71594.33 , 67129.44 ],\n",
       "      dtype=float32)"
      ]
     },
     "execution_count": 18,
     "metadata": {},
     "output_type": "execute_result"
    }
   ],
   "source": [
    "pred_data #8 2.770943852650967"
   ]
  },
  {
   "cell_type": "code",
   "execution_count": 21,
   "metadata": {},
   "outputs": [
    {
     "data": {
      "text/plain": [
       "array([61942.902, 59532.133, 58487.188, 57291.867, 56790.652, 56995.156,\n",
       "       57593.52 , 58253.195, 60283.51 , 62581.06 , 64598.773, 65733.55 ,\n",
       "       66431.18 , 67284.516, 67259.28 , 67424.484, 67686.914, 69008.734,\n",
       "       69963.83 , 70285.27 , 70396.95 , 70957.586, 68631.71 , 65514.137],\n",
       "      dtype=float32)"
      ]
     },
     "execution_count": 21,
     "metadata": {},
     "output_type": "execute_result"
    }
   ],
   "source": [
    "pred_data#9 1.6307168978256033"
   ]
  },
  {
   "cell_type": "code",
   "execution_count": 24,
   "metadata": {},
   "outputs": [
    {
     "data": {
      "text/plain": [
       "array([65823.555, 63400.42 , 60816.465, 60670.367, 59063.76 , 60229.22 ,\n",
       "       61446.92 , 64087.254, 65095.164, 67890.76 , 68689.555, 68987.34 ,\n",
       "       69565.67 , 69987.734, 69998.04 , 70624.56 , 70156.516, 70916.984,\n",
       "       72903.31 , 74500.414, 74447.055, 73140.43 , 71783.62 , 68698.73 ],\n",
       "      dtype=float32)"
      ]
     },
     "execution_count": 24,
     "metadata": {},
     "output_type": "execute_result"
    }
   ],
   "source": [
    "pred_data#15 4.214384033577299"
   ]
  },
  {
   "cell_type": "code",
   "execution_count": 26,
   "metadata": {},
   "outputs": [
    {
     "data": {
      "text/plain": [
       "array([62016.65 , 60477.523, 57906.74 , 57049.59 , 56210.832, 57441.625,\n",
       "       57686.383, 58474.88 , 59551.324, 61807.24 , 64980.656, 65876.94 ,\n",
       "       66377.78 , 67409.42 , 67901.49 , 67934.375, 69028.17 , 69478.14 ,\n",
       "       70234.016, 70904.44 , 70630.14 , 70514.46 , 69037.63 , 65448.926],\n",
       "      dtype=float32)"
      ]
     },
     "execution_count": 26,
     "metadata": {},
     "output_type": "execute_result"
    }
   ],
   "source": [
    "pred_data#16 2.26431843032"
   ]
  },
  {
   "cell_type": "code",
   "execution_count": 28,
   "metadata": {},
   "outputs": [
    {
     "data": {
      "text/plain": [
       "array([73729.22 , 70151.09 , 66349.19 , 65658.3  , 64208.895, 64836.707,\n",
       "       64187.207, 64432.164, 67697.94 , 72505.21 , 76090.23 , 78894.17 ,\n",
       "       82068.15 , 83859.8  , 86027.48 , 88327.13 , 88384.945, 89391.516,\n",
       "       89950.95 , 88044.664, 86354.805, 84342.   , 83254.33 , 77846.41 ],\n",
       "      dtype=float32)"
      ]
     },
     "execution_count": 28,
     "metadata": {},
     "output_type": "execute_result"
    }
   ],
   "source": [
    "pred_data#22 1.3789698873587581"
   ]
  },
  {
   "cell_type": "code",
   "execution_count": 30,
   "metadata": {},
   "outputs": [
    {
     "data": {
      "text/plain": [
       "array([71655.734, 68051.94 , 64880.38 , 63358.605, 62329.055, 62530.6  ,\n",
       "       62895.254, 62991.805, 64894.008, 68969.12 , 72590.64 , 76620.664,\n",
       "       78455.555, 81556.2  , 82980.15 , 84395.5  , 84884.33 , 86094.11 ,\n",
       "       86055.25 , 85119.305, 83580.59 , 82045.04 , 79973.09 , 75867.1  ],\n",
       "      dtype=float32)"
      ]
     },
     "execution_count": 30,
     "metadata": {},
     "output_type": "execute_result"
    }
   ],
   "source": [
    "pred_data#23 2.4688763456800213"
   ]
  },
  {
   "cell_type": "code",
   "execution_count": 32,
   "metadata": {},
   "outputs": [
    {
     "data": {
      "text/plain": [
       "array([67506.99 , 65212.22 , 63753.29 , 62419.9  , 61522.88 , 61956.953,\n",
       "       63379.95 , 65375.1  , 68036.65 , 70466.11 , 71667.016, 72427.3  ,\n",
       "       72555.04 , 72081.92 , 71692.03 , 71947.53 , 71883.91 , 72811.375,\n",
       "       73962.32 , 74921.72 , 74568.24 , 74043.73 , 72319.914, 68673.6  ],\n",
       "      dtype=float32)"
      ]
     },
     "execution_count": 32,
     "metadata": {},
     "output_type": "execute_result"
    }
   ],
   "source": [
    " pred_data#29 6.775338"
   ]
  },
  {
   "cell_type": "code",
   "execution_count": 33,
   "metadata": {},
   "outputs": [],
   "source": [
    "ass = np.array([61894.598, 59662.645, 58520.3  , 57413.24 , 56489.008, 56764.83 ,\n",
    "       57126.055, 57747.94 , 59718.477, 62562.754, 64653.793, 65934.51 ,\n",
    "       67041.74 , 66988.62 , 68123.27 , 67900.56 , 68687.65 , 69272.6  ,\n",
    "       70517.12 , 71031.48 , 70964.71 , 71696.   , 69120.5  , 65486.48,\n",
    "        64029.65 , 62609.688, 60259.484, 59977.07 , 60265.625, 60601.164,\n",
    "       61702.3  , 63401.777, 64994.168, 67511.805, 68570.83 , 68814.15 ,\n",
    "       68935.23 , 69431.88 , 69053.76 , 69878.33 , 70734.57 , 70712.64 ,\n",
    "       72124.49 , 73230.48 , 73919.27 , 73253.7  , 71594.33 , 67129.44,\n",
    "        61942.902, 59532.133, 58487.188, 57291.867, 56790.652, 56995.156,\n",
    "       57593.52 , 58253.195, 60283.51 , 62581.06 , 64598.773, 65733.55 ,\n",
    "       66431.18 , 67284.516, 67259.28 , 67424.484, 67686.914, 69008.734,\n",
    "       69963.83 , 70285.27 , 70396.95 , 70957.586, 68631.71 , 65514.137,\n",
    "        65823.555, 63400.42 , 60816.465, 60670.367, 59063.76 , 60229.22 ,\n",
    "       61446.92 , 64087.254, 65095.164, 67890.76 , 68689.555, 68987.34 ,\n",
    "       69565.67 , 69987.734, 69998.04 , 70624.56 , 70156.516, 70916.984,\n",
    "       72903.31 , 74500.414, 74447.055, 73140.43 , 71783.62 , 68698.73,\n",
    "        62016.65 , 60477.523, 57906.74 , 57049.59 , 56210.832, 57441.625,\n",
    "       57686.383, 58474.88 , 59551.324, 61807.24 , 64980.656, 65876.94 ,\n",
    "       66377.78 , 67409.42 , 67901.49 , 67934.375, 69028.17 , 69478.14 ,\n",
    "       70234.016, 70904.44 , 70630.14 , 70514.46 , 69037.63 , 65448.926,\n",
    "       73729.22 , 70151.09 , 66349.19 , 65658.3  , 64208.895, 64836.707,\n",
    "       64187.207, 64432.164, 67697.94 , 72505.21 , 76090.23 , 78894.17 ,\n",
    "       82068.15 , 83859.8  , 86027.48 , 88327.13 , 88384.945, 89391.516,\n",
    "       89950.95 , 88044.664, 86354.805, 84342.   , 83254.33 , 77846.41,\n",
    "        71655.734, 68051.94 , 64880.38 , 63358.605, 62329.055, 62530.6  ,\n",
    "       62895.254, 62991.805, 64894.008, 68969.12 , 72590.64 , 76620.664,\n",
    "       78455.555, 81556.2  , 82980.15 , 84395.5  , 84884.33 , 86094.11 ,\n",
    "       86055.25 , 85119.305, 83580.59 , 82045.04 , 79973.09 , 75867.1,\n",
    "        67506.99 , 65212.22 , 63753.29 , 62419.9  , 61522.88 , 61956.953,\n",
    "       63379.95 , 65375.1  , 68036.65 , 70466.11 , 71667.016, 72427.3  ,\n",
    "       72555.04 , 72081.92 , 71692.03 , 71947.53 , 71883.91 , 72811.375,\n",
    "       73962.32 , 74921.72 , 74568.24 , 74043.73 , 72319.914, 68673.6 ])"
   ]
  },
  {
   "cell_type": "code",
   "execution_count": 35,
   "metadata": {},
   "outputs": [],
   "source": [
    "pd.DataFrame(ass.reshape(-1,24)).to_csv('weekend_pred.csv')"
   ]
  },
  {
   "cell_type": "code",
   "execution_count": null,
   "metadata": {},
   "outputs": [],
   "source": []
  }
 ],
 "metadata": {
  "kernelspec": {
   "display_name": "Python 3",
   "language": "python",
   "name": "python3"
  },
  "language_info": {
   "codemirror_mode": {
    "name": "ipython",
    "version": 3
   },
   "file_extension": ".py",
   "mimetype": "text/x-python",
   "name": "python",
   "nbconvert_exporter": "python",
   "pygments_lexer": "ipython3",
   "version": "3.7.0"
  }
 },
 "nbformat": 4,
 "nbformat_minor": 2
}
